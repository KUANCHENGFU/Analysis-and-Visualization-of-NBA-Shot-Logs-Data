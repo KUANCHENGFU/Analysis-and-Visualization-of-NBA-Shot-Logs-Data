{
 "cells": [
  {
   "cell_type": "markdown",
   "metadata": {},
   "source": [
    "# Analysis and Visualization of NBA Shot Logs Data"
   ]
  },
  {
   "cell_type": "markdown",
   "metadata": {},
   "source": [
    "### Introduction\n",
    "“Analytics are part and parcel of virtually everything we do now,” NBA commissioner Adam Silver said at an analytics conference held by Wharton School of Business in 2017. \n",
    "Since 2009, a video system has been used to track the movement of every NBA player on the court and the ball, 25 times a second by the league.\n",
    "\n",
    "With the improvement of technology and the explosion of the new data, the league’s analytics movement has been pushed forward significantly, where data scientists began to be able to use cartography and machine learning to better assess players and even help their team win. Not only that, the NBA’s data revolution has impacted every aspects of the league, such as how much salary the player should be worth per year, how many games the player should be rested, and so on.\n",
    "\n",
    "As data science and the basketball games become more intertwined, more insights and works could be extracted and done by dealing with different kind of basketball data. Therefore, we will be trying to analyze and visualize NBA shot logs data in this tutorial. Specifically, this tutorial is composed of three parts.\n",
    "\n",
    "1. **Players’ performance on the offensive and defensive end** \n",
    "2. **Players’ field goal percentage in terms of shot distance and shot clock time**\n",
    "3. **The exploration of hot hand phenomenon**"
   ]
  },
  {
   "cell_type": "markdown",
   "metadata": {},
   "source": [
    "### Data Scource: NBA Shot Logs Data\n",
    "Unfortunately, the NBA stopped providing its API publicly a few years ago. Therefore, we will be working with [NBA shot logs data](https://www.kaggle.com/dansbecker/nba-shot-logs) from the 2014–2015 season that was acquired while the public API was still available. We have already prepared the data for the purposes of this tutorial.\n",
    "\n",
    "We will be mainly using [`pandas`](https://pandas.pydata.org/pandas-docs/stable/user_guide/) and [`matplotlib`](https://matplotlib.org) to work with this data."
   ]
  },
  {
   "cell_type": "code",
   "execution_count": 1,
   "metadata": {},
   "outputs": [],
   "source": [
    "import pandas as pd\n",
    "import numpy as np\n",
    "import matplotlib.pyplot as plt\n",
    "import seaborn as sns"
   ]
  },
  {
   "cell_type": "markdown",
   "metadata": {},
   "source": [
    "### Part One: Players’ performance on the offensive and defensive end\n",
    "In the beginning, we will simply evaluate NBA players’ performance on the offensive and defensive end in the 2014–2015 season by using players’ field goal percentage and defensive success percentage. In detail, **field goal percentage** (including two-point and three-point field goal) is the ratio of field goals made to field goals attempted, while **defensive success percentage** is the ratio of the number of successful defenses to the number of defenses. We will begin by doing the following steps.\n",
    "\n",
    "1. Loading the data to create Pandas Dataframe by using the [`read_csv`](https://pandas.pydata.org/pandas-docs/stable/reference/api/pandas.read_csv.html), and mapping (`made`, `missed`) to (1,0) in the `SHOT_RESULT` column  \n",
    "2. Grouping the data by `player_id` and `CLOSEST_DEFENDER_PLAYER_ID` respectively by using the [`groupby`](https://pandas.pydata.org/pandas-docs/stable/reference/api/pandas.DataFrame.groupby.html)\n",
    "3. Calculating players’ field goal percentage (FGP) and defensive success percentage (DSP)\n",
    "4. Assigning players’ names to their FGP and DSP by using the [`merge`](https://pandas.pydata.org/pandas-docs/stable/reference/api/pandas.DataFrame.merge.html)\n",
    "5. Creating a scatter plot of DSP vs FGP with adjusted marker size, marker color,and the limits of the axes by using [`matplotlib.pyplot.scatter`](https://matplotlib.org/3.1.1/api/_as_gen/matplotlib.pyplot.scatter.htmll)"
   ]
  },
  {
   "cell_type": "code",
   "execution_count": 2,
   "metadata": {},
   "outputs": [],
   "source": [
    "data = pd.read_csv(\"data/shot_logs.csv\",header=0)\n",
    "data['SHOT_RESULT'] = data['SHOT_RESULT'].map({'made': 1, 'missed': 0})"
   ]
  },
  {
   "cell_type": "code",
   "execution_count": 3,
   "metadata": {},
   "outputs": [],
   "source": [
    "FGM = data.groupby(['player_id']).sum().SHOT_RESULT \n",
    "FGA = data.groupby(['player_id']).count().SHOT_RESULT\n",
    "FGP = FGM.div(FGA)\n",
    "DF = data.groupby(['CLOSEST_DEFENDER_PLAYER_ID']).sum().SHOT_RESULT\n",
    "DN = data.groupby(['CLOSEST_DEFENDER_PLAYER_ID']).count().SHOT_RESULT\n",
    "DSP = (DN-DF).div(DN)"
   ]
  },
  {
   "cell_type": "code",
   "execution_count": 4,
   "metadata": {},
   "outputs": [],
   "source": [
    "result = pd.concat([FGP, DSP], axis=1).dropna()\n",
    "result.columns = ['FGP', 'DSP']\n",
    "result['ID'] = result.index"
   ]
  },
  {
   "cell_type": "code",
   "execution_count": 5,
   "metadata": {},
   "outputs": [],
   "source": [
    "M = data[['player_name','player_id']]\n",
    "M.columns = ['NAME', 'ID']\n",
    "result2 = pd.merge(result,M,on='ID')\n",
    "final_result = result2.groupby(['NAME']).mean()"
   ]
  },
  {
   "cell_type": "code",
   "execution_count": 6,
   "metadata": {},
   "outputs": [
    {
     "data": {
      "image/png": "[encoded data removed]",
      "text/plain": [
       "<Figure size 432x288 with 1 Axes>"
      ]
     },
     "metadata": {
      "needs_background": "light"
     },
     "output_type": "display_data"
    }
   ],
   "source": [
    "plt.scatter(final_result.FGP, final_result.DSP, c='DarkBlue', s=10)\n",
    "plt.xlim([0.25,0.75])\n",
    "plt.ylim([0.25,0.75])\n",
    "plt.xlabel('Field Goal Percentage (%)')\n",
    "plt.ylabel('Defense Success Percentage (%)')\n",
    "plt.show()"
   ]
  },
  {
   "cell_type": "markdown",
   "metadata": {},
   "source": [
    "Intuitively, as shown in the above scatter plot of DSP vs FGP, the points on the top right corner represents the players who have the more effective performance on both offensive and defensive end, while the points on the bottom left corner represents the players who have the less effective performance on both offensive and defensive end. \n",
    "\n",
    "However, this scatter plot is not able to indicate the players’ performance on the offensive and defensive precisely. Therefore, we will make DSP minus the median of DSP, and FGP minus the median of FGP."
   ]
  },
  {
   "cell_type": "code",
   "execution_count": 7,
   "metadata": {},
   "outputs": [
    {
     "data": {
      "image/png": "[encoded data removed]",
      "text/plain": [
       "<Figure size 432x288 with 1 Axes>"
      ]
     },
     "metadata": {
      "needs_background": "light"
     },
     "output_type": "display_data"
    }
   ],
   "source": [
    "x = final_result.FGP-final_result.FGP.median()\n",
    "y = final_result.DSP-final_result.DSP.median()\n",
    "plt.scatter(x, y, c='DarkBlue', s=10)\n",
    "plt.axhline(y=0, color = 'r')\n",
    "plt.axvline(x=0, color = 'r')\n",
    "plt.xlim(-0.25, 0.25)\n",
    "plt.ylim(-0.25, 0.25)\n",
    "plt.show()"
   ]
  },
  {
   "cell_type": "markdown",
   "metadata": {},
   "source": [
    "As shown in the above scatter plot, all the points are divided into four quadrants. `The points in the first quadrant` represents the players who have the more effective performance on both offensive and defensive end. `The points in the third quadrant` represents the players who have the less effective performance on both offensive and defensive end. `The points in the second quadrant` represents the players who have the less effective performance on offensive end but the more effective performance on defensive end. `The points in the fourth quadrant` represents the players who have the less effective performance on defensive end but the more effective performance on offensive end."
   ]
  },
  {
   "cell_type": "code",
   "execution_count": 8,
   "metadata": {
    "scrolled": true
   },
   "outputs": [
    {
     "data": {
      "text/html": [
       "<div>\n",
       "<style scoped>\n",
       "    .dataframe tbody tr th:only-of-type {\n",
       "        vertical-align: middle;\n",
       "    }\n",
       "\n",
       "    .dataframe tbody tr th {\n",
       "        vertical-align: top;\n",
       "    }\n",
       "\n",
       "    .dataframe thead th {\n",
       "        text-align: right;\n",
       "    }\n",
       "</style>\n",
       "<table border=\"1\" class=\"dataframe\">\n",
       "  <thead>\n",
       "    <tr style=\"text-align: right;\">\n",
       "      <th></th>\n",
       "      <th>FGP</th>\n",
       "      <th>DSP</th>\n",
       "      <th>Rating</th>\n",
       "    </tr>\n",
       "    <tr>\n",
       "      <th>NAME</th>\n",
       "      <th></th>\n",
       "      <th></th>\n",
       "      <th></th>\n",
       "    </tr>\n",
       "  </thead>\n",
       "  <tbody>\n",
       "    <tr>\n",
       "      <td>andre miller</td>\n",
       "      <td>0.099899</td>\n",
       "      <td>0.139474</td>\n",
       "      <td>0.239373</td>\n",
       "    </tr>\n",
       "    <tr>\n",
       "      <td>rudy gobert</td>\n",
       "      <td>0.179390</td>\n",
       "      <td>0.058975</td>\n",
       "      <td>0.238365</td>\n",
       "    </tr>\n",
       "    <tr>\n",
       "      <td>james johnson</td>\n",
       "      <td>0.168069</td>\n",
       "      <td>0.032088</td>\n",
       "      <td>0.200157</td>\n",
       "    </tr>\n",
       "    <tr>\n",
       "      <td>andrew bogut</td>\n",
       "      <td>0.106223</td>\n",
       "      <td>0.063622</td>\n",
       "      <td>0.169845</td>\n",
       "    </tr>\n",
       "    <tr>\n",
       "      <td>john henson</td>\n",
       "      <td>0.134834</td>\n",
       "      <td>0.020844</td>\n",
       "      <td>0.155678</td>\n",
       "    </tr>\n",
       "    <tr>\n",
       "      <td>bismack biyombo</td>\n",
       "      <td>0.115325</td>\n",
       "      <td>0.033580</td>\n",
       "      <td>0.148905</td>\n",
       "    </tr>\n",
       "    <tr>\n",
       "      <td>anthony davis</td>\n",
       "      <td>0.097322</td>\n",
       "      <td>0.046030</td>\n",
       "      <td>0.143352</td>\n",
       "    </tr>\n",
       "    <tr>\n",
       "      <td>alonzo gee</td>\n",
       "      <td>0.032182</td>\n",
       "      <td>0.106480</td>\n",
       "      <td>0.138663</td>\n",
       "    </tr>\n",
       "    <tr>\n",
       "      <td>tony allen</td>\n",
       "      <td>0.034368</td>\n",
       "      <td>0.096267</td>\n",
       "      <td>0.130635</td>\n",
       "    </tr>\n",
       "    <tr>\n",
       "      <td>derrick favors</td>\n",
       "      <td>0.098973</td>\n",
       "      <td>0.021847</td>\n",
       "      <td>0.120820</td>\n",
       "    </tr>\n",
       "  </tbody>\n",
       "</table>\n",
       "</div>"
      ],
      "text/plain": [
       "                      FGP       DSP    Rating\n",
       "NAME                                         \n",
       "andre miller     0.099899  0.139474  0.239373\n",
       "rudy gobert      0.179390  0.058975  0.238365\n",
       "james johnson    0.168069  0.032088  0.200157\n",
       "andrew bogut     0.106223  0.063622  0.169845\n",
       "john henson      0.134834  0.020844  0.155678\n",
       "bismack biyombo  0.115325  0.033580  0.148905\n",
       "anthony davis    0.097322  0.046030  0.143352\n",
       "alonzo gee       0.032182  0.106480  0.138663\n",
       "tony allen       0.034368  0.096267  0.130635\n",
       "derrick favors   0.098973  0.021847  0.120820"
      ]
     },
     "execution_count": 8,
     "metadata": {},
     "output_type": "execute_result"
    }
   ],
   "source": [
    "new_table = pd.concat([x, y], axis=1)\n",
    "new_table['Rating'] = new_table['FGP']+new_table['DSP']\n",
    "new_table = new_table[new_table['FGP'] > 0] \n",
    "new_table = new_table[new_table['DSP'] > 0]  \n",
    "new_table.sort_values(['Rating'], ascending=[False]).head(10)"
   ]
  },
  {
   "cell_type": "markdown",
   "metadata": {},
   "source": [
    "In the end of this part, the above dataframe describes the top ten players in the first quadrant with effective performance on both offensive and defensive end. It is not surprise that there are about eights players playing power forward or center on the court. The reason is that they are the guys who attack and protect the paint with their tall and strong body. With regard to the rest of two players playing guard, Andre Miller is known as an experienced player, while Tony Allen is known for his top denfensive ability and mentality."
   ]
  },
  {
   "cell_type": "markdown",
   "metadata": {},
   "source": [
    "### Part Two: Players’ field goal percentage in terms of shot distance and shot clock time\n",
    "In this part, we will evaluate players’ performance in more depth by using players’ field goal percentage in terms of shot distance and shot clock time. In details, all the shots will be organized into 144 unique bins by `SHOT_DIST` and `SHOT_CLOCK` column. Shot distances will be segmented into 6 distance ranges: <5 ft, 5–10 ft, 10–15 ft, 15–20 ft, 20–25 ft, and 25–30 ft. Shot clock times will be segmented into 24 bins of 1 second each, from 0 to 24 seconds. Each bin will then be mapped to the field goal percentage of the shots taken in that bin. We begin by doing the following steps.\n",
    "\n",
    "1. Removing the missing values from the `SHOT_CLOCK` column by using the [`dropna`](https://pandas.pydata.org/pandas-docs/stable/reference/api/pandas.DataFrame.dropna.html)\n",
    "2. Defining a fuction named `shots_in_range` to get index of rows in the given dataframe where the values in the `SHOT_DIST` column are within the certain distance range\n",
    "3. Defining a fuction named `clock_in_range` to create a dataframe with field goal percentage corresponding to the shock clock time and shot distance\n",
    "4. Defining a fuction named `FG_distance_clock` to integrate above two functions and ouput the final result of the given player\n",
    "5. Creating a 2D heatmap of the final result with adjusted colormap by using [`sns.heatmap`](http://seaborn.pydata.org/generated/seaborn.heatmap.html)"
   ]
  },
  {
   "cell_type": "code",
   "execution_count": 9,
   "metadata": {},
   "outputs": [],
   "source": [
    "data.dropna(subset=['SHOT_CLOCK'], inplace=True)\n",
    "data = data.reset_index(drop = True)"
   ]
  },
  {
   "cell_type": "code",
   "execution_count": 10,
   "metadata": {},
   "outputs": [],
   "source": [
    "def shots_in_range(shot_range, df, str):\n",
    "    \n",
    "    these_shots = []\n",
    "    all_shot_idxs = range(df.shape[0])    \n",
    "    for idx in all_shot_idxs:        \n",
    "        this_shot_dist = df.loc[idx, str]\n",
    "        if this_shot_dist >= shot_range[0] and this_shot_dist < shot_range[1]:\n",
    "            these_shots.append(idx)\n",
    "            \n",
    "    return these_shots\n",
    "\n",
    "def clock_in_range(ran, df, shots_idx):\n",
    "    \n",
    "    data_final = pd.DataFrame()    \n",
    "    for idx in shots_idx:\n",
    "        this_shot_clock = df.loc[idx, 'SHOT_CLOCK']                \n",
    "        for r in shot_clock_ranges:           \n",
    "            if this_shot_clock >= r[0] and this_shot_clock < r[1]:\n",
    "                val = df.loc[idx, 'SHOT_RESULT']\n",
    "                total_shots = 1\n",
    "            else:\n",
    "                val = 0\n",
    "                total_shots = 0\n",
    "            key = (ran[0], r[0])\n",
    "            value = [val, total_shots]            \n",
    "            if key not in dictionary:\n",
    "                dictionary[key] = value\n",
    "            else:\n",
    "                dictionary[key][0] = dictionary[key][0] + val\n",
    "                dictionary[key][1] = dictionary[key][1] + total_shots\n",
    "            \n",
    "    left = pd.Series(dictionary).reset_index()   \n",
    "    left.columns = ['Shot Distance (ft)', 'Shot Clock (s)', 'Col3'] \n",
    "    del left['Col3']\n",
    "    right = pd.DataFrame.from_dict(dictionary, orient='index',columns=['shot_made', 'total_shots']).reset_index()\n",
    "    del right['index']\n",
    "    d = pd.concat([left, right], axis=1)\n",
    "    d['shots_percent'] = d['shot_made']/d['total_shots']\n",
    "    \n",
    "    return d"
   ]
  },
  {
   "cell_type": "code",
   "execution_count": 11,
   "metadata": {},
   "outputs": [],
   "source": [
    "shot_dist_ranges = []\n",
    "shot_clock_ranges = []\n",
    "dictionary = {}\n",
    "def FG_distance_clock(player_name):\n",
    "    player = data.loc[data['player_name'] == player_name]\n",
    "    new = player[['SHOT_DIST', 'SHOT_CLOCK', 'SHOT_RESULT']].copy()\n",
    "    new.reset_index(inplace=True)\n",
    "  \n",
    "    for i in range(0, 6):\n",
    "        shot_dist_ranges.append((5*i, 5*i+5))\n",
    "    for i in range(0, 24):\n",
    "        shot_clock_ranges.append((i, i+1))    \n",
    "    for s in shot_dist_ranges:\n",
    "        shots_idx = shots_in_range(s, new, 'SHOT_DIST')\n",
    "        d = clock_in_range(s, new, shots_idx)\n",
    "\n",
    "    return d.fillna(0)    "
   ]
  },
  {
   "cell_type": "code",
   "execution_count": 12,
   "metadata": {},
   "outputs": [
    {
     "data": {
      "image/png": "[encoded data removed]",
      "text/plain": [
       "<Figure size 432x288 with 2 Axes>"
      ]
     },
     "metadata": {
      "needs_background": "light"
     },
     "output_type": "display_data"
    }
   ],
   "source": [
    "res = FG_distance_clock('russell westbrook').pivot(index='Shot Distance (ft)', columns='Shot Clock (s)', values='shots_percent')\n",
    "ax = sns.heatmap(res, annot=False, cmap='coolwarm', cbar_kws={'label': 'Field Goal Percentage (%)'})\n",
    "plt.title('russell westbrook'.title(), fontsize = 12)\n",
    "plt.show()"
   ]
  },
  {
   "cell_type": "markdown",
   "metadata": {},
   "source": [
    "Russell Westbrook was the point leaders in the 2014-2015 NBA season, with 28.1 points per game. Therefore, we are interested in how was his performance on the court according to shot distance and shot clock time.\n",
    "\n",
    "As shown in the above heatmap, the upper part of the heatmap indicates that Russell Westbrook had higher field goal percentage around the basket. However, the two sides of the heatmap shows that Russell Westbrook had pretty poor field goal percentage in the start and the end of the shot clock. Intuitively, the field goal percentage might be mainly pulled down by the rush shots."
   ]
  },
  {
   "cell_type": "markdown",
   "metadata": {},
   "source": [
    "### Part Three: The exploration of hot hand phenomenon\n",
    "In the last part, we will explore whether [hot hand phenomenon](https://en.wikipedia.org/wiki/Hot_hand) exists or not. Specifically, hot hand phenomenon means that a shooter is allegedly more likely to score if their previous attempts were successful. Therefore, we will respectively calculate the player's field goal percentage after one shot made, two shots made, three shots made, four shots made, and five shots made. After that, we will compare these field goal percentage to the player's general field goal percentage. We begin by doing the following steps.\n",
    "\n",
    "1. Reloading the data to create Pandas Dataframes by using the [`read_csv`](https://pandas.pydata.org/pandas-docs/stable/reference/api/pandas.read_csv.html), and mapping (`made`, `missed`) to (1,0) in the `SHOT_RESULT` column  \n",
    "2. Creating a dictionary which the keys are players' names and the values are the dataframes composed of `GAME_ID`, `player_name`, and `SHOT_RESULT`\n",
    "3. Defining a fuction named `hot_hand_percentage` to calculate the field goal percentage after one shot made, two shots made, three shots made, four shots made, five shots made, and the general field goal percentage\n",
    "5. Creating a bar plot of these field goal percentage by using [`matplotlib.pyplot.bar¶`](https://matplotlib.org/3.1.1/api/_as_gen/matplotlib.pyplot.bar.html)"
   ]
  },
  {
   "cell_type": "code",
   "execution_count": 13,
   "metadata": {},
   "outputs": [],
   "source": [
    "data = pd.read_csv(\"shot_logs.csv\",header=0)\n",
    "data['SHOT_RESULT'] = data['SHOT_RESULT'].map({'made': 1, 'missed': 0})"
   ]
  },
  {
   "cell_type": "code",
   "execution_count": 14,
   "metadata": {},
   "outputs": [],
   "source": [
    "Player = data.player_name.unique()\n",
    "PlayerData = {player_name : pd.DataFrame for player_name in Player}\n",
    "for key in PlayerData.keys():\n",
    "    PlayerData[key] = data[['GAME_ID', 'player_name', 'SHOT_RESULT']][data.player_name == key]"
   ]
  },
  {
   "cell_type": "code",
   "execution_count": 15,
   "metadata": {},
   "outputs": [],
   "source": [
    "def hot_hand_percentage(player_name):\n",
    "    FGM = data.groupby(['player_name']).sum().SHOT_RESULT\n",
    "    FGA = data.groupby(['player_name']).count().SHOT_RESULT\n",
    "    FGP = FGM.div(FGA)\n",
    "    \n",
    "    game_id = PlayerData[player_name].GAME_ID.unique()\n",
    "    total = 0; made = 0; total2 = 0; made2 = 0; total3 = 0; made3 = 0\n",
    "    total4 = 0; made4 = 0; total5 = 0; made5 = 0\n",
    "    for key in game_id:\n",
    "        A = PlayerData[player_name].groupby(['GAME_ID']).get_group(key)\n",
    "        shot_seq = []\n",
    "        for index, row in A.iterrows():\n",
    "            shot_seq.append(row['SHOT_RESULT'])\n",
    "        \n",
    "        for i in range(len(shot_seq)):\n",
    "            if i+1 < len(shot_seq): # Afte 1 shot made\n",
    "                if shot_seq[i] == 1:\n",
    "                    total = total+1\n",
    "                    if shot_seq[i+1] == 1:\n",
    "                        made = made+1\n",
    "            if i+1 < len(shot_seq) and i+2 < len(shot_seq): # Afte 2 shots made\n",
    "                if shot_seq[i] == 1 and shot_seq[i+1] == 1:\n",
    "                    total2 = total2+1\n",
    "                    if shot_seq[i+2] == 1:\n",
    "                        made2 = made2+1\n",
    "            if i+1 < len(shot_seq) and i+2 < len(shot_seq) and i+3 < len(shot_seq): # Afte 3 shots made\n",
    "                if shot_seq[i] == 1 and shot_seq[i+1] == 1 and shot_seq[i+2] == 1:\n",
    "                    total3 = total3+1\n",
    "                    if shot_seq[i+3] == 1:\n",
    "                        made3 = made3+1            \n",
    "            if i+1 < len(shot_seq) and i+2 < len(shot_seq) and i+3 < len(shot_seq) and i+4 < len(shot_seq): # Afte 4 shots made\n",
    "                if shot_seq[i] == 1 and shot_seq[i+1] == 1 and shot_seq[i+2] == 1 and shot_seq[i+3] == 1:\n",
    "                    total4 = total4+1\n",
    "                    if shot_seq[i+4] == 1:\n",
    "                        made4 = made4+1                        \n",
    "            if i+1 < len(shot_seq) and i+2 < len(shot_seq) and i+3 < len(shot_seq) and i+4 < len(shot_seq) and i+5 < len(shot_seq): #  Afte 5 shots made\n",
    "                if shot_seq[i] == 1 and shot_seq[i+1] == 1 and shot_seq[i+2] == 1 and shot_seq[i+3] == 1 and shot_seq[i+4] == 1:\n",
    "                    total5 = total5+1\n",
    "                    if shot_seq[i+5] == 1:\n",
    "                        made5 = made5+1\n",
    "    return [FGP[player_name], made/total, made2/total2, made3/total3, made4/total4, made5/total5]\n"
   ]
  },
  {
   "cell_type": "code",
   "execution_count": 16,
   "metadata": {
    "scrolled": true
   },
   "outputs": [
    {
     "data": {
      "image/png": "[encoded data removed]",
      "text/plain": [
       "<Figure size 432x288 with 1 Axes>"
      ]
     },
     "metadata": {
      "needs_background": "light"
     },
     "output_type": "display_data"
    }
   ],
   "source": [
    "x = ['Average','One','Two','Three','Four','Five']\n",
    "plt.bar(x, hot_hand_percentage('stephen curry'))\n",
    "plt.ylabel('Field Goal Percentage (%)')\n",
    "plt.ylim(0, 0.7)\n",
    "plt.title('stephen curry'.title(), fontsize = 12)\n",
    "for i, v in enumerate(hot_hand_percentage('stephen curry')):\n",
    "    plt.text(x[i], v + 0.01, round(v,2))   \n",
    "plt.show()"
   ]
  },
  {
   "cell_type": "code",
   "execution_count": 17,
   "metadata": {},
   "outputs": [
    {
     "data": {
      "image/png": "[encoded data removed]",
      "text/plain": [
       "<Figure size 432x288 with 1 Axes>"
      ]
     },
     "metadata": {
      "needs_background": "light"
     },
     "output_type": "display_data"
    }
   ],
   "source": [
    "x = ['Average','One','Two','Three','Four','Five']\n",
    "plt.bar(x, hot_hand_percentage('klay thompson'))\n",
    "plt.ylabel('Field Goal Percentage (%)')\n",
    "plt.ylim(0, 0.7)\n",
    "plt.title('klay thompson'.title(), fontsize = 12)\n",
    "for i, v in enumerate(hot_hand_percentage('klay thompson')):\n",
    "    plt.text(x[i], v + 0.01, round(v,2))   \n",
    "plt.show()"
   ]
  },
  {
   "cell_type": "markdown",
   "metadata": {},
   "source": [
    "The [Splash Brothers](https://en.wikipedia.org/wiki/Splash_Brothers) are a duo of NBA basketball players consisting of Stephen Curry and Klay Thompson. They both play professionally for the Golden State Warriors. In 2014-2105 season, they became the first teammates in the league to be the starting guards in the same All-Star Game since 1975, and helped the Warriors win the 2014-2015 NBA Finals for the team's first title in 40 years. \n",
    "\n",
    "They are both known for their top shooting ability and their crazy hot hand. Therefore, we are really interested in whether hot hand phenomenon happens on this two top NBA players or not. As shown in the first bar plot, hot hand phenomenon seems not happens on Stephen Curry. The field goal percentage decreases as more shots are made previously. However, Klay Thompson seems really hot after four and five shots made. "
   ]
  },
  {
   "cell_type": "code",
   "execution_count": null,
   "metadata": {},
   "outputs": [],
   "source": []
  }
 ],
 "metadata": {
  "kernelspec": {
   "display_name": "Python 3",
   "language": "python",
   "name": "python3"
  },
  "language_info": {
   "codemirror_mode": {
    "name": "ipython",
    "version": 3
   },
   "file_extension": ".py",
   "mimetype": "text/x-python",
   "name": "python",
   "nbconvert_exporter": "python",
   "pygments_lexer": "ipython3",
   "version": "3.7.3"
  }
 },
 "nbformat": 4,
 "nbformat_minor": 2
}